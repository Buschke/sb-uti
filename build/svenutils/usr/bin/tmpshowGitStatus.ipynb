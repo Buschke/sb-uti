{
 "cells": [
  {
   "cell_type": "code",
   "execution_count": 11,
   "metadata": {},
   "outputs": [],
   "source": [
    "from pathlib import Path\n",
    "import subprocess\n",
    "import os\n",
    "from typing import Iterator, Set, Tuple\n",
    "\n",
    "def find_git_repositories(directory: Path) -> Iterator[Path]:\n",
    "  for root, dirs, files in os.walk(directory):\n",
    "    for dir in dirs:\n",
    "      if (Path(root) / dir / \".git\").exists():\n",
    "        yield Path(root) / dir\n",
    "\n",
    "def check_git_status(repository: Path) -> Tuple[Set[str], Set[str]]:\n",
    "  status = subprocess.check_output([\"git\", \"-C\", str(repository), \"status\"]).decode(\"utf-8\")\n",
    "\n",
    "  untracked_files = set()\n",
    "  uncommitted_files = set()\n",
    "  for line in status.splitlines():\n",
    "    if line.startswith(\"??\"):\n",
    "      untracked_files.add(line[3:])\n",
    "    elif not line.startswith(\"??\") and line:\n",
    "      uncommitted_files.add(line[3:])\n",
    "\n",
    "  return untracked_files, uncommitted_files\n",
    "\n",
    "def main():\n",
    "  directory = Path(\".\")\n",
    "\n",
    "  for repository in find_git_repositories(directory):\n",
    "    unversioned_files, uncommitted_files = check_git_status(repository)\n",
    "\n",
    "    if unversioned_files or uncommitted_files:\n",
    "      for file in unversioned_files:\n",
    "        print(f\"Untracked: {repository}/{file}\")\n",
    "      for file in uncommitted_files:\n",
    "        print(f\"Uncommitted: {repository}/{file}\")\n",
    "\n",
    "if __name__ == \"__main__\":\n",
    "  main()\n"
   ]
  }
 ],
 "metadata": {
  "kernelspec": {
   "display_name": "svenAIvenv",
   "language": "python",
   "name": "python3"
  },
  "language_info": {
   "codemirror_mode": {
    "name": "ipython",
    "version": 3
   },
   "file_extension": ".py",
   "mimetype": "text/x-python",
   "name": "python",
   "nbconvert_exporter": "python",
   "pygments_lexer": "ipython3",
   "version": "3.11.2"
  },
  "orig_nbformat": 4
 },
 "nbformat": 4,
 "nbformat_minor": 2
}
